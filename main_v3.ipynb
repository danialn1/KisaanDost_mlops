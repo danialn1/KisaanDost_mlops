{
 "cells": [
  {
   "cell_type": "code",
   "execution_count": 8,
   "metadata": {},
   "outputs": [
    {
     "name": "stdout",
     "output_type": "stream",
     "text": [
      "{'Intent-Slot': {'Bye': [],\n",
      "                 'Crop Quality Query': ['Crop Type',\n",
      "                                        'User Location',\n",
      "                                        'Crop Symptoms',\n",
      "                                        'Solution'],\n",
      "                 'Greeting': [],\n",
      "                 'Machinery Query': ['Machine Symptoms', 'Solution'],\n",
      "                 'Seed Recommendation Query': ['Crop Type', 'Solution'],\n",
      "                 'UNK': [],\n",
      "                 'Yielding Season Query': ['Crop Type',\n",
      "                                           'User Location',\n",
      "                                           'Solution']},\n",
      " 'Slot-Prompt': {'Crop Symptoms': 'ap ke fasal ko kia howa hai',\n",
      "                 'Crop Type': 'ap kon se fasal auga rahe hain',\n",
      "                 'Machine Symptoms': 'ap ke machine ko kia howa hai',\n",
      "                 'Solution': 'phir yeh hai ap ka hal',\n",
      "                 'User Location': 'ap kidhar kaam kar rahe hain'}}\n"
     ]
    }
   ],
   "source": [
    "import yaml\n",
    "import pprint\n",
    "\n",
    "slot_dict = yaml.safe_load(open(\"intent_slots.yml\", 'r'))\n",
    "pprint.pprint(slot_dict)"
   ]
  },
  {
   "cell_type": "code",
   "execution_count": 9,
   "metadata": {},
   "outputs": [],
   "source": [
    "class KisaanDost:\n",
    "    def __init__(self):\n",
    "        self.chat_history = []\n",
    "        self.problems = {'Solved':[],'Unsolved':[]}\n",
    "        self.intent_classifier = None\n",
    "        self.entity_extractor = None\n",
    "        self.knowledge_base = None\n",
    "    def query_knowledge_base(self,query_info):\n",
    "        pass\n",
    "    def get_solution(self,problem):\n",
    "        return slot_dict['Slot-Prompt']['Solution']\n",
    "    def classify_intent(self,user_input_dict):\n",
    "        \"\"\"\n",
    "        Classifies message into one or more of the following intents.\n",
    "            Greeting\n",
    "            Bye\n",
    "            UNK\n",
    "            Machinery Query\n",
    "            Yielding Season Query\n",
    "            Seed Recommendation Query\n",
    "            Crop Quality Query\n",
    "        If no intent is detected in the message, UNK intent is classified. This is the only\n",
    "        situation in which UNK intent is classified. UNK stands for 'unknown'.\n",
    "        \"\"\"\n",
    "        user_input_dict['Intent'] = [\"UNK\"]        \n",
    "    def extract_entities(self,user_input_dict):\n",
    "        user_input_dict['Entities'] = []\n",
    "        for problem in self.problems['Unsolved']:\n",
    "            for slot_key in problem['Slots'].keys():\n",
    "                if slot_key in user_input_dict['Entities']:\n",
    "                    problem['Slots'][slot_key] = user_input_dict['Entities'][slot_key]\n",
    "    def detect_problem(self,user_input_dict):\n",
    "        for i in user_input_dict['Intent']:\n",
    "            if \"Query\" in i:\n",
    "                problem = i[:i.index('Query')-1]\n",
    "                slots = {k:None for k in slot_dict['Intent-Slot'][i]}\n",
    "                self.problems['Unsolved'].append({'Problem':problem,\n",
    "                                                  'Slots':slots,\n",
    "                                                  'Solution':None})\n",
    "    def get_user_input(self,x=None):\n",
    "        if not x:\n",
    "            user_input = input()\n",
    "        self.chat_history.append({'Agent':'User',\n",
    "                                  'Message':user_input,\n",
    "                                  'Intent':[\"UNK\"],\n",
    "                                  'Entities':[]})\n",
    "    def generate_response(self,user_input_dict=None):\n",
    "        try:\n",
    "            if not user_input_dict:\n",
    "                self.chat_history.append({'Agent':'KisaanBot',\n",
    "                                          'Message':'assalam alaikum'})\n",
    "                return\n",
    "            if 'Bye' in user_input_dict['Intent']:\n",
    "                self.chat_history.append({'Agent':'KisaanBot',\n",
    "                                          'Message':'allah hafiz'})\n",
    "                return\n",
    "            if 'UNK' in user_input_dict['Intent']:\n",
    "                self.chat_history.append({'Agent':'KisaanBot',\n",
    "                                          'Message':'meje ap ke baat samajh nhai ai'})\n",
    "                return\n",
    "            message = ''  \n",
    "            if 'Greeting' in user_input_dict['Intent']:\n",
    "                message += 'walaikum assalam '\n",
    "                if len(user_input_dict['Intent'])==1:\n",
    "                    message += 'ap ka kia masla hai'\n",
    "                self.chat_history.append({'Agent':'KisaanBot',\n",
    "                                          'Message':message})  \n",
    "                return\n",
    "            current_problem = self.problems['Unsolved'][0]\n",
    "            all_slots_filled = True\n",
    "            for slot in current_problem['Slots']:\n",
    "                if not current_problem[slot]:\n",
    "                    message += slot_dict['Slot-Prompt'][slot]\n",
    "                    all_slots_filled = False\n",
    "                    break\n",
    "            if all_slots_filled:\n",
    "                solution = get_solution(current_problem)\n",
    "                message += solution\n",
    "                current_problem['Solution'] = solution\n",
    "                problem_index = self.problems['Unsolved'].index(current_problem)\n",
    "                solved_problem = self.problems['Unsolved'].pop(problem_index)\n",
    "                self.problems['Solved'].append(solved_problem)\n",
    "            self.chat_history.append({'Agent':'KisaanBot',\n",
    "                                      'Message':message})        \n",
    "        except:\n",
    "            self.chat_history.append({'Agent':'KisaanBot',\n",
    "                                      'Message':'mein abhi chal nhai raha baad mein koshish kejiye ga'}) \n",
    "    def get_user_voice_input(self,x=None):\n",
    "        pass\n",
    "    def generate_voice_response(self):\n",
    "        pass\n",
    "    def return_last_response_message(self):\n",
    "        for c in self.chat_history[::-1]:\n",
    "            if c['Agent']=='KisaanBot':\n",
    "                return c['Message']\n",
    "    def run_chatbot(self):\n",
    "        while(1):\n",
    "            self.get_user_input()\n",
    "            if self.chat_history[-1]['Message'] == 'q':\n",
    "                break                \n",
    "            self.classify_intent(self.chat_history[-1])\n",
    "            self.extract_entities(self.chat_history[-1])\n",
    "            self.detect_problem(self.chat_history[-1])\n",
    "            self.generate_response(self.chat_history[-1])\n",
    "            print(f\"{self.chat_history[-1]['Agent']}: {self.chat_history[-1]['Message']}\")"
   ]
  },
  {
   "cell_type": "code",
   "execution_count": 10,
   "metadata": {
    "scrolled": true
   },
   "outputs": [
    {
     "name": "stdout",
     "output_type": "stream",
     "text": [
      "hmmm\n",
      "KisaanBot: meje ap ke baat samajh nhai ai\n",
      "q\n"
     ]
    }
   ],
   "source": [
    "myKisaanDost = KisaanDost()\n",
    "myKisaanDost.run_chatbot()"
   ]
  },
  {
   "cell_type": "code",
   "execution_count": null,
   "metadata": {},
   "outputs": [],
   "source": []
  }
 ],
 "metadata": {
  "kernelspec": {
   "display_name": "Python 3",
   "language": "python",
   "name": "python3"
  },
  "language_info": {
   "codemirror_mode": {
    "name": "ipython",
    "version": 3
   },
   "file_extension": ".py",
   "mimetype": "text/x-python",
   "name": "python",
   "nbconvert_exporter": "python",
   "pygments_lexer": "ipython3",
   "version": "3.9.0"
  }
 },
 "nbformat": 4,
 "nbformat_minor": 4
}
