{
  "nbformat": 4,
  "nbformat_minor": 0,
  "metadata": {
    "colab": {
      "provenance": [],
      "collapsed_sections": []
    },
    "kernelspec": {
      "name": "python3",
      "display_name": "Python 3"
    },
    "language_info": {
      "name": "python"
    }
  },
  "cells": [
    {
      "cell_type": "code",
      "source": [
        "question=\"barani ilaky k liye double coulter drill kesee rahy gee me iss dfa usky sath gandum kaasht krna chahta huu agr koi istemal kr rha hy tu mshwra de\"\n",
        "token=question.split()"
      ],
      "metadata": {
        "id": "9eC6dOoDY8z_"
      },
      "execution_count": 30,
      "outputs": []
    },
    {
      "cell_type": "code",
      "execution_count": 31,
      "metadata": {
        "id": "WxPHM8i_vFxW"
      },
      "outputs": [],
      "source": [
        "entity_dict={\"Crop Type\": ['gandum','chawal','monji','barseen','canola','bajra','sun flower','Shalgam','Canola','Bhindi','makai','wheat','shimla mirch','tamatar','rice','kino','kapaas','sugarcane','napire grass','khjoor'],\n",
        "             \"User Location\":['barani','jhelum','punjab','sindh'],\n",
        "             \"Disease Symptoms\":['keera','safaid'],\n",
        "             \"Machine malfunction\":['tractor'],\n",
        "             }"
      ]
    },
    {
      "cell_type": "code",
      "source": [
        "class my_dictionary(dict): \n",
        "    def __init__(self): \n",
        "        self = dict() \n",
        "    def add(self, key, value): \n",
        "        self[key] = value"
      ],
      "metadata": {
        "id": "3rbIAuGpmrcq"
      },
      "execution_count": 32,
      "outputs": []
    },
    {
      "cell_type": "code",
      "source": [
        "count=0\n",
        "entity_dictnew=my_dictionary()\n",
        "for val in entity_dict:\n",
        "  for x in entity_dict[val]:\n",
        "    for y in token:\n",
        "      if y == x :\n",
        "        count +=1\n",
        "        if(count>0):\n",
        "          entity_dictnew.add(val,y)\n",
        "        else:\n",
        "          print('No entity')\n",
        "entity_list = list(dict.fromkeys(entity_dictnew))\n",
        "print(entity_dictnew)"
      ],
      "metadata": {
        "colab": {
          "base_uri": "https://localhost:8080/"
        },
        "id": "4USFB7zEPA08",
        "outputId": "e73cd889-860b-4dcf-ff79-430c2f33a3c8"
      },
      "execution_count": 33,
      "outputs": [
        {
          "output_type": "stream",
          "name": "stdout",
          "text": [
            "{'Crop Type': 'gandum', 'User Location': 'barani'}\n"
          ]
        }
      ]
    },
    {
      "cell_type": "code",
      "source": [],
      "metadata": {
        "id": "XQZlHeWWeP4I"
      },
      "execution_count": 25,
      "outputs": []
    }
  ]
}