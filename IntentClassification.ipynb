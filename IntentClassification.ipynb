{
  "nbformat": 4,
  "nbformat_minor": 0,
  "metadata": {
    "colab": {
      "provenance": [],
      "collapsed_sections": []
    },
    "kernelspec": {
      "name": "python3",
      "display_name": "Python 3"
    },
    "language_info": {
      "name": "python"
    }
  },
  "cells": [
    {
      "cell_type": "code",
      "execution_count": 21,
      "metadata": {
        "id": "Vyt1CfsCbY3_"
      },
      "outputs": [],
      "source": [
        "question=\"kino ka phal laga ha dosri dafa ib is ko khad kon c dalni chyea or spray kon sa krni chyea\"\n",
        "token=question.split()"
      ]
    },
    {
      "cell_type": "code",
      "source": [
        "token"
      ],
      "metadata": {
        "colab": {
          "base_uri": "https://localhost:8080/"
        },
        "id": "ohyK9g0qbp_9",
        "outputId": "35141665-cd68-419d-8c7d-cffd10497547"
      },
      "execution_count": 22,
      "outputs": [
        {
          "output_type": "execute_result",
          "data": {
            "text/plain": [
              "['kino',\n",
              " 'ka',\n",
              " 'phal',\n",
              " 'laga',\n",
              " 'ha',\n",
              " 'dosri',\n",
              " 'dafa',\n",
              " 'ib',\n",
              " 'is',\n",
              " 'ko',\n",
              " 'khad',\n",
              " 'kon',\n",
              " 'c',\n",
              " 'dalni',\n",
              " 'chyea',\n",
              " 'or',\n",
              " 'spray',\n",
              " 'kon',\n",
              " 'sa',\n",
              " 'krni',\n",
              " 'chyea']"
            ]
          },
          "metadata": {},
          "execution_count": 22
        }
      ]
    },
    {
      "cell_type": "code",
      "source": [
        "intent_dict={\"Crop disease\": ['solution','disease','bemari','masla','gira','hal','jala','mur','hamla'],\n",
        "             \"Crop quality\":['paidawaar','behtar','bach'],\n",
        "             \"Yielding Season\":['kasht','kab','date','month','mahinay','mausam','saal','waqt','kb'],\n",
        "             \"Seed Recommendation\":['recommend','kasht','fasal'],\n",
        "             \"Machinery related\":['machine','drill','tractor'],\n",
        "             \"Seed availibility\":['available','milayga'],\n",
        "             \"Spray Recommendation\":['spray'],\n",
        "             \"Fertilizer Recommendation\":['fertilizer','khad'],\n",
        "             \"Crop Knowledge\":['fasal','kon','tareeka'],\n",
        "             \"Farming tips\":['guidance']}"
      ],
      "metadata": {
        "id": "_RHuhb8wbzXe"
      },
      "execution_count": 23,
      "outputs": []
    },
    {
      "cell_type": "code",
      "source": [
        "count=0\n",
        "intent_list=[]\n",
        "no_intent=[]\n",
        "for val in intent_dict:\n",
        "  for x in intent_dict[val]:\n",
        "    for y in token:\n",
        "      if y == x :\n",
        "        count +=1\n",
        "        if(count>0):\n",
        "          intent_list.append(val)\n",
        "        else:\n",
        "          print('No intent')\n",
        "intent_list = list(dict.fromkeys(intent_list))\n",
        "print(intent_list)"
      ],
      "metadata": {
        "colab": {
          "base_uri": "https://localhost:8080/"
        },
        "id": "kPbCtlFIbrVi",
        "outputId": "82ed57fc-19e0-44e1-f24c-5f76b58aadb2"
      },
      "execution_count": 24,
      "outputs": [
        {
          "output_type": "stream",
          "name": "stdout",
          "text": [
            "['Spray Recommendation', 'Fertilizer Recommendation', 'Crop Knowledge']\n"
          ]
        }
      ]
    },
    {
      "cell_type": "code",
      "source": [],
      "metadata": {
        "id": "q2cM_TTEcUUt"
      },
      "execution_count": null,
      "outputs": []
    }
  ]
}